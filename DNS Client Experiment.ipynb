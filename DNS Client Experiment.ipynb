{
 "cells": [
  {
   "cell_type": "code",
   "execution_count": 1,
   "metadata": {
    "collapsed": false
   },
   "outputs": [
    {
     "data": {
      "text/plain": [
       "<<170, 170, 1, 0, 0, 1, 0, 0, 0, 0, 0, 0>>"
      ]
     },
     "execution_count": 1,
     "metadata": {},
     "output_type": "execute_result"
    }
   ],
   "source": [
    "request_header = <<\n",
    "    0xAA, 0xAA, # ID\n",
    "    0x01, 0x00, # Query parameters\n",
    "    0x00, 0x01, # Number of questions\n",
    "    0x00, 0x00, # Number of answers\n",
    "    0x00, 0x00, # Number of authority records\n",
    "    0x00, 0x00  # Number of additional records\n",
    ">>"
   ]
  },
  {
   "cell_type": "code",
   "execution_count": 2,
   "metadata": {
    "collapsed": false
   },
   "outputs": [
    {
     "data": {
      "text/plain": [
       "true"
      ]
     },
     "execution_count": 2,
     "metadata": {},
     "output_type": "execute_result"
    }
   ],
   "source": [
    "byte_size(request_header) === 2 * 6"
   ]
  },
  {
   "cell_type": "code",
   "execution_count": 3,
   "metadata": {
    "collapsed": false
   },
   "outputs": [
    {
     "data": {
      "text/plain": [
       "<<7, 101, 120, 97, 109, 112, 108, 101, 3, 99, 111, 109, 0, 0, 1, 0, 1>>"
      ]
     },
     "execution_count": 3,
     "metadata": {},
     "output_type": "execute_result"
    }
   ],
   "source": [
    "question = <<\n",
    "    0x07, 0x65, # 'example' has length 7, e\n",
    "    0x78, 0x61, # x, a\n",
    "    0x6D, 0x70, # m, p\n",
    "    0x6C, 0x65, # l, e\n",
    "    0x03, 0x63, # 'com' has length 3, c\n",
    "    0x6F, 0x6D, # o, m\n",
    "    0x00,       # zero byte to end the QNAME \n",
    "    0x00, 0x01, # QTYPE \n",
    "    0x00, 0x01  # QCLASS\n",
    ">>"
   ]
  },
  {
   "cell_type": "code",
   "execution_count": 4,
   "metadata": {
    "collapsed": false
   },
   "outputs": [
    {
     "data": {
      "text/plain": [
       "true"
      ]
     },
     "execution_count": 4,
     "metadata": {},
     "output_type": "execute_result"
    }
   ],
   "source": [
    "byte_size(question) === 17"
   ]
  },
  {
   "cell_type": "code",
   "execution_count": 5,
   "metadata": {
    "collapsed": false
   },
   "outputs": [
    {
     "data": {
      "text/plain": [
       "<<170, 170, 1, 0, 0, 1, 0, 0, 0, 0, 0, 0, 7, 101, 120, 97, 109, 112, 108, 101, 3, 99, 111, 109, 0, 0, 1, 0, 1>>"
      ]
     },
     "execution_count": 5,
     "metadata": {},
     "output_type": "execute_result"
    }
   ],
   "source": [
    "request = request_header <> question"
   ]
  },
  {
   "cell_type": "code",
   "execution_count": 6,
   "metadata": {
    "collapsed": false
   },
   "outputs": [
    {
     "data": {
      "text/plain": [
       ":ok"
      ]
     },
     "execution_count": 6,
     "metadata": {},
     "output_type": "execute_result"
    }
   ],
   "source": [
    "alias :gen_udp, as: UDP\n",
    "passive = [active: false]\n",
    "binary = [:binary]\n",
    "\n",
    "{:ok, s} = UDP.open(1024)\n",
    ":ok = :inet.setopts(s, passive ++ binary)\n",
    ":ok = UDP.send(s, '8.8.8.8', 53, request)\n",
    "{:ok, r} = UDP.recv(s, 8)\n",
    "UDP.close(s)"
   ]
  },
  {
   "cell_type": "code",
   "execution_count": 7,
   "metadata": {
    "collapsed": false
   },
   "outputs": [
    {
     "data": {
      "text/plain": [
       "<<170, 170, 129, 128, 0, 1, 0, 1, 0, 0, 0, 0, 7, 101, 120, 97, 109, 112, 108, 101, 3, 99, 111, 109, 0, 0, 1, 0, 1, 192, 12, 0, 1, 0, 1, 0, 0, 43, 203, 0, 4, 93, 184, 216, 34>>"
      ]
     },
     "execution_count": 7,
     "metadata": {},
     "output_type": "execute_result"
    }
   ],
   "source": [
    "{_, _, x} = r; x"
   ]
  },
  {
   "cell_type": "code",
   "execution_count": 8,
   "metadata": {
    "collapsed": false
   },
   "outputs": [
    {
     "data": {
      "text/plain": [
       "<<170, 170, 129, 128, 0, 1, 0, 1, 0, 0, 0, 0>>"
      ]
     },
     "execution_count": 8,
     "metadata": {},
     "output_type": "execute_result"
    }
   ],
   "source": [
    "response_header = <<\n",
    "    0xAA, 0xAA, # Same ID as before\n",
    "    0x81, 0x80, # Different flags, we'll look at this below\n",
    "    0x00, 0x01, # 1 question\n",
    "    0x00, 0x01, # 1 answer\n",
    "    0x00, 0x00, # No authority records\n",
    "    0x00, 0x00  # No additional records\n",
    ">>"
   ]
  },
  {
   "cell_type": "code",
   "execution_count": 9,
   "metadata": {
    "collapsed": false
   },
   "outputs": [
    {
     "data": {
      "text/plain": [
       "<<170, 170, 129, 128, 0, 1, 0, 1, 0, 0, 0, 0, 7, 101, 120, 97, 109, 112, 108, 101, 3, 99, 111, 109, 0, 0, 1, 0, 1, 192, 12, 0, 1, 0, 1, 0, 0, 43, 203, 0, 4, 93, 184, 216, 34>>"
      ]
     },
     "execution_count": 9,
     "metadata": {},
     "output_type": "execute_result"
    }
   ],
   "source": [
    "<< i::binary-12, j::binary-17, k::binary >> = x"
   ]
  },
  {
   "cell_type": "code",
   "execution_count": 10,
   "metadata": {
    "collapsed": false
   },
   "outputs": [
    {
     "data": {
      "text/plain": [
       "true"
      ]
     },
     "execution_count": 10,
     "metadata": {},
     "output_type": "execute_result"
    }
   ],
   "source": [
    "i == response_header"
   ]
  },
  {
   "cell_type": "code",
   "execution_count": 11,
   "metadata": {
    "collapsed": false
   },
   "outputs": [
    {
     "data": {
      "text/plain": [
       "true"
      ]
     },
     "execution_count": 11,
     "metadata": {},
     "output_type": "execute_result"
    }
   ],
   "source": [
    "j == question"
   ]
  },
  {
   "cell_type": "code",
   "execution_count": 12,
   "metadata": {
    "collapsed": false
   },
   "outputs": [
    {
     "data": {
      "text/plain": [
       "<<192, 12, 0, 1, 0, 1, 0, 0, 24, 76, 0, 4, 93, 184, 216, 34>>"
      ]
     },
     "execution_count": 12,
     "metadata": {},
     "output_type": "execute_result"
    }
   ],
   "source": [
    "answer = <<\n",
    "    0xC0, 0x0C, # NAME\n",
    "    0x00, 0x01, # TYPE\n",
    "    0x00, 0x01, # CLASS\n",
    "    0x00, 0x00,\n",
    "    0x18, 0x4C, # TTL\n",
    "    0x00, 0x04, # RDLENGTH = 4 bytes\n",
    "    0x5D, 0xB8,\n",
    "    0xD8, 0x22 # RDDATA\n",
    ">>"
   ]
  },
  {
   "cell_type": "code",
   "execution_count": 13,
   "metadata": {
    "collapsed": false
   },
   "outputs": [
    {
     "data": {
      "text/plain": [
       "false"
      ]
     },
     "execution_count": 13,
     "metadata": {},
     "output_type": "execute_result"
    }
   ],
   "source": [
    "k == answer"
   ]
  },
  {
   "cell_type": "code",
   "execution_count": 14,
   "metadata": {
    "collapsed": false
   },
   "outputs": [
    {
     "data": {
      "text/plain": [
       "<<192, 12, 0, 1, 0, 1, 0, 0, 43, 203, 0, 4, 93, 184, 216, 34>>"
      ]
     },
     "execution_count": 14,
     "metadata": {},
     "output_type": "execute_result"
    }
   ],
   "source": [
    "k"
   ]
  },
  {
   "cell_type": "code",
   "execution_count": 15,
   "metadata": {
    "collapsed": false
   },
   "outputs": [
    {
     "data": {
      "text/plain": [
       "[eq: <<192, 12, 0, 1, 0, 1, 0, 0>>, del: <<43, 203>>, ins: <<24, 76>>, eq: <<0, 4, 93, 184, 216, 34>>]"
      ]
     },
     "execution_count": 15,
     "metadata": {},
     "output_type": "execute_result"
    }
   ],
   "source": [
    "String.myers_difference k, answer"
   ]
  },
  {
   "cell_type": "code",
   "execution_count": null,
   "metadata": {
    "collapsed": true
   },
   "outputs": [],
   "source": []
  }
 ],
 "metadata": {
  "kernelspec": {
   "display_name": "Elixir",
   "language": "Elixir",
   "name": "ielixir"
  },
  "language_info": {
   "codemirror_mode": "elixir",
   "file_extension": "ex",
   "mimetype": "text/x-elixir",
   "name": "elixir",
   "nbconvert_exporter": "",
   "pygments_lexer": "elixir",
   "version": "#Version<1.6.2>"
  }
 },
 "nbformat": 4,
 "nbformat_minor": 1
}
